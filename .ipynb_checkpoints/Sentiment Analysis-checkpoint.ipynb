{
 "cells": [
  {
   "cell_type": "code",
   "execution_count": 1,
   "metadata": {},
   "outputs": [],
   "source": [
    "import numpy as np"
   ]
  },
  {
   "cell_type": "code",
   "execution_count": 2,
   "metadata": {},
   "outputs": [],
   "source": [
    "g = open('./reviews.txt', mode='r')\n",
    "reviews = [ r[:-1] for r in g.readlines() ]\n",
    "g.close()\n",
    "\n",
    "h = open('./labels.txt', mode='r')\n",
    "labels = [ r[:-1].upper() for r in h.readlines() ]\n",
    "h.close()"
   ]
  },
  {
   "cell_type": "code",
   "execution_count": 3,
   "metadata": {},
   "outputs": [
    {
     "data": {
      "text/plain": [
       "'bromwell high is a cartoon comedy . it ran at the same time as some other programs about school life  such as  teachers  . my   years in the teaching profession lead me to believe that bromwell high  s satire is much closer to reality than is  teachers  . the scramble to survive financially  the insightful students who can see right through their pathetic teachers  pomp  the pettiness of the whole situation  all remind me of the schools i knew and their students . when i saw the episode in which a student repeatedly tried to burn down the school  i immediately recalled . . . . . . . . . at . . . . . . . . . . high . a classic line inspector i  m here to sack one of your teachers . student welcome to bromwell high . i expect that many adults of my age think that bromwell high is far fetched . what a pity that it isn  t   '"
      ]
     },
     "execution_count": 3,
     "metadata": {},
     "output_type": "execute_result"
    }
   ],
   "source": [
    "reviews[0]"
   ]
  },
  {
   "cell_type": "code",
   "execution_count": 4,
   "metadata": {},
   "outputs": [
    {
     "data": {
      "text/plain": [
       "'POSITIVE'"
      ]
     },
     "execution_count": 4,
     "metadata": {},
     "output_type": "execute_result"
    }
   ],
   "source": [
    "labels[0]"
   ]
  },
  {
   "cell_type": "code",
   "execution_count": 5,
   "metadata": {},
   "outputs": [],
   "source": [
    "all_words = set() # Store all the words in the reviews\n",
    "for review in reviews:\n",
    "    for word in review.split(' '):\n",
    "        all_words.add(word)\n",
    "\n",
    "word2index = {} # I'm using this to store the indices of all the words\n",
    "for i, word in enumerate(all_words):\n",
    "    word2index[word] = i"
   ]
  },
  {
   "cell_type": "code",
   "execution_count": 6,
   "metadata": {},
   "outputs": [],
   "source": [
    "vocab_length = len(all_words)\n",
    "input_vector = np.zeros((1, vocab_length))"
   ]
  },
  {
   "cell_type": "code",
   "execution_count": 7,
   "metadata": {},
   "outputs": [],
   "source": [
    "# Function to convert each review into a 74074 vector\n",
    "def get_review_vector(review, input_vector):\n",
    "    input_vector *= 0\n",
    "    for word in review.split(' '):\n",
    "        input_vector[0][word2index[word]] = 1\n",
    "    return input_vector\n",
    "\n",
    "def get_label_value(label):\n",
    "    return 1 if label == \"POSITIVE\" else 0"
   ]
  },
  {
   "cell_type": "code",
   "execution_count": 24,
   "metadata": {},
   "outputs": [],
   "source": [
    "reivews = reviews[0:1]\n",
    "split = 0.70\n",
    "training_split = int(split * len(reviews))\n",
    "\n",
    "training_data, training_label = reviews[0:training_split], labels[0:training_split]\n",
    "valid_data, valid_label = reviews[training_split:], labels[training_split:]"
   ]
  },
  {
   "cell_type": "code",
   "execution_count": 25,
   "metadata": {},
   "outputs": [
    {
     "data": {
      "text/plain": [
       "array([[1., 0., 0., ..., 0., 0., 0.]])"
      ]
     },
     "execution_count": 25,
     "metadata": {},
     "output_type": "execute_result"
    }
   ],
   "source": [
    "get_review_vector(reviews[1], input_vector) # Check the input vector sample"
   ]
  },
  {
   "cell_type": "code",
   "execution_count": 26,
   "metadata": {},
   "outputs": [],
   "source": [
    "def sigmoid(x):\n",
    "    return 1/(1 + np.exp(-x))\n",
    "\n",
    "def sigmoid_deriv(z):\n",
    "    return z * (1 - z)\n",
    "\n",
    "def relu(x):\n",
    "    x[x > 0] = x\n",
    "    x[x <= 0] = 0.001\n",
    "    return x\n",
    "\n",
    "def relu_deriv(x):\n",
    "    x[x > 0] = 1\n",
    "    x[x <= 0] = 0\n",
    "    return x"
   ]
  },
  {
   "cell_type": "code",
   "execution_count": 27,
   "metadata": {
    "scrolled": false
   },
   "outputs": [
    {
     "name": "stdout",
     "output_type": "stream",
     "text": [
      "1 hererererer\n",
      "2 hererererer\n",
      "3 hererererer\n",
      "4 hererererer\n",
      "5 hererererer\n",
      "6 hererererer\n",
      "7 hererererer\n",
      "8 hererererer\n",
      "9 hererererer\n",
      "10 hererererer\n",
      "11 hererererer\n",
      "12 hererererer\n",
      "13 hererererer\n",
      "14 hererererer\n",
      "15 hererererer\n",
      "16 hererererer\n",
      "17 hererererer\n",
      "18 hererererer\n",
      "19 hererererer\n",
      "20 hererererer\n",
      "21 hererererer\n",
      "22 hererererer\n",
      "23 hererererer\n",
      "24 hererererer\n",
      "25 hererererer\n",
      "26 hererererer\n",
      "27 hererererer\n",
      "28 hererererer\n",
      "29 hererererer\n",
      "30 hererererer\n",
      "31 hererererer\n",
      "32 hererererer\n",
      "33 hererererer\n",
      "34 hererererer\n",
      "35 hererererer\n",
      "36 hererererer\n",
      "37 hererererer\n",
      "38 hererererer\n",
      "39 hererererer\n",
      "40 hererererer\n",
      "41 hererererer\n",
      "42 hererererer\n",
      "43 hererererer\n",
      "44 hererererer\n",
      "45 hererererer\n",
      "46 hererererer\n",
      "47 hererererer\n",
      "48 hererererer\n",
      "49 hererererer\n",
      "50 hererererer\n",
      "51 hererererer\n",
      "52 hererererer\n",
      "53 hererererer\n",
      "54 hererererer\n",
      "55 hererererer\n",
      "56 hererererer\n",
      "57 hererererer\n",
      "58 hererererer\n",
      "59 hererererer\n",
      "60 hererererer\n",
      "61 hererererer\n",
      "62 hererererer\n",
      "63 hererererer\n",
      "64 hererererer\n",
      "65 hererererer\n",
      "66 hererererer\n",
      "67 hererererer\n",
      "68 hererererer\n",
      "69 hererererer\n",
      "70 hererererer\n",
      "71 hererererer\n",
      "72 hererererer\n",
      "73 hererererer\n",
      "74 hererererer\n",
      "75 hererererer\n",
      "76 hererererer\n",
      "77 hererererer\n",
      "78 hererererer\n",
      "79 hererererer\n",
      "80 hererererer\n",
      "81 hererererer\n",
      "82 hererererer\n",
      "83 hererererer\n",
      "84 hererererer\n",
      "85 hererererer\n",
      "86 hererererer\n",
      "87 hererererer\n",
      "88 hererererer\n",
      "89 hererererer\n",
      "90 hererererer\n",
      "91 hererererer\n",
      "92 hererererer\n",
      "93 hererererer\n",
      "94 hererererer\n",
      "95 hererererer\n",
      "96 hererererer\n",
      "97 hererererer\n",
      "98 hererererer\n",
      "99 hererererer\n",
      "100 hererererer\n",
      "101 hererererer\n",
      "102 hererererer\n",
      "103 hererererer\n",
      "104 hererererer\n",
      "105 hererererer\n",
      "106 hererererer\n",
      "107 hererererer\n",
      "108 hererererer\n",
      "109 hererererer\n",
      "110 hererererer\n",
      "111 hererererer\n",
      "112 hererererer\n",
      "113 hererererer\n",
      "114 hererererer\n",
      "115 hererererer\n",
      "116 hererererer\n",
      "117 hererererer\n",
      "118 hererererer\n",
      "119 hererererer\n",
      "120 hererererer\n",
      "121 hererererer\n",
      "122 hererererer\n",
      "123 hererererer\n",
      "124 hererererer\n",
      "125 hererererer\n",
      "126 hererererer\n",
      "127 hererererer\n",
      "128 hererererer\n",
      "129 hererererer\n",
      "130 hererererer\n",
      "131 hererererer\n",
      "132 hererererer\n",
      "133 hererererer\n",
      "134 hererererer\n",
      "135 hererererer\n",
      "136 hererererer\n",
      "137 hererererer\n",
      "138 hererererer\n",
      "139 hererererer\n",
      "140 hererererer\n",
      "141 hererererer\n",
      "142 hererererer\n",
      "143 hererererer\n",
      "144 hererererer\n",
      "145 hererererer\n",
      "146 hererererer\n",
      "147 hererererer\n",
      "148 hererererer\n",
      "149 hererererer\n",
      "150 hererererer\n",
      "151 hererererer\n",
      "152 hererererer\n",
      "153 hererererer\n",
      "154 hererererer\n",
      "155 hererererer\n",
      "156 hererererer\n",
      "157 hererererer\n",
      "158 hererererer\n",
      "159 hererererer\n",
      "160 hererererer\n",
      "161 hererererer\n",
      "162 hererererer\n",
      "163 hererererer\n",
      "164 hererererer\n",
      "165 hererererer\n",
      "166 hererererer\n",
      "167 hererererer\n",
      "168 hererererer\n",
      "169 hererererer\n",
      "170 hererererer\n",
      "171 hererererer\n",
      "172 hererererer\n",
      "173 hererererer\n",
      "174 hererererer\n",
      "175 hererererer\n"
     ]
    },
    {
     "ename": "KeyboardInterrupt",
     "evalue": "",
     "output_type": "error",
     "traceback": [
      "\u001b[0;31m---------------------------------------------------------------------------\u001b[0m",
      "\u001b[0;31mKeyboardInterrupt\u001b[0m                         Traceback (most recent call last)",
      "\u001b[0;32m<ipython-input-27-c0e04052013e>\u001b[0m in \u001b[0;36m<module>\u001b[0;34m\u001b[0m\n\u001b[1;32m     29\u001b[0m \u001b[0;34m\u001b[0m\u001b[0m\n\u001b[1;32m     30\u001b[0m         \u001b[0mweights_2_delta\u001b[0m \u001b[0;34m=\u001b[0m \u001b[0moutput_error_delta\u001b[0m \u001b[0;34m*\u001b[0m \u001b[0mhidden_layer_output\u001b[0m\u001b[0;34m\u001b[0m\u001b[0;34m\u001b[0m\u001b[0m\n\u001b[0;32m---> 31\u001b[0;31m         \u001b[0mweights_1_delta\u001b[0m \u001b[0;34m=\u001b[0m \u001b[0mhidden_error_delta\u001b[0m\u001b[0;34m.\u001b[0m\u001b[0mT\u001b[0m \u001b[0;34m*\u001b[0m \u001b[0mreview_vector\u001b[0m\u001b[0;34m\u001b[0m\u001b[0;34m\u001b[0m\u001b[0m\n\u001b[0m\u001b[1;32m     32\u001b[0m \u001b[0;34m\u001b[0m\u001b[0m\n\u001b[1;32m     33\u001b[0m         \u001b[0;31m# Update weights\u001b[0m\u001b[0;34m\u001b[0m\u001b[0;34m\u001b[0m\u001b[0;34m\u001b[0m\u001b[0m\n",
      "\u001b[0;31mKeyboardInterrupt\u001b[0m: "
     ]
    }
   ],
   "source": [
    "from pdb import set_trace\n",
    "\n",
    "epochs = 5\n",
    "\n",
    "weights_1 = np.zeros((vocab_length, 100)) # start with random values\n",
    "weights_2 = np.random.normal(0.0, 1.0, (100, 1))\n",
    "\n",
    "lr = 0.3\n",
    "\n",
    "for e in range(epochs):\n",
    "    training_errors = []\n",
    "    c = 1\n",
    "    for review, label in zip(training_data, training_label):\n",
    "        print(c, 'hererererer')\n",
    "        c += 1\n",
    "        review_vector = get_review_vector(review, input_vector)\n",
    "\n",
    "        hidden_layer_input = np.dot(review_vector, weights_1)\n",
    "        hidden_layer_output = sigmoid(hidden_layer_input)\n",
    "\n",
    "        final_layer_input = np.dot(hidden_layer_output, weights_2)\n",
    "        final_layer_output = sigmoid(final_layer_input)\n",
    "\n",
    "        output_error = final_layer_output - get_label_value(label)\n",
    "        output_error_delta = output_error * sigmoid_deriv(final_layer_output)\n",
    "\n",
    "        hidden_error = output_error * output_error_delta * weights_2.T\n",
    "        hidden_error_delta = hidden_error * sigmoid_deriv(hidden_layer_output)\n",
    "\n",
    "        weights_2_delta = output_error_delta * hidden_layer_output\n",
    "        weights_1_delta = hidden_error_delta.T * review_vector\n",
    "\n",
    "        # Update weights\n",
    "        weights_1 += lr * weights_1_delta.T\n",
    "        weights_2 += lr * weights_2_delta.T\n",
    "    \n",
    "    else:\n",
    "        print('validating...')\n",
    "        valid_loss = 0\n",
    "        errors = []\n",
    "        for v_review, v_label in zip(valid_data, valid_label):\n",
    "            review_vector = get_review_vector(v_review, input_vector)\n",
    "            hidden_layer = sigmoid(np.dot(review_vector, weights_1))\n",
    "            final_layer = sigmoid(np.dot(hidden_layer, weights_2))\n",
    "            \n",
    "            valid_loss = np.abs(final_layer - get_label_value(v_label))\n",
    "            errors.append(valid_loss[0][0])\n",
    "\n",
    "        print(\"Error: {:.6f}\".format(np.mean(error)))"
   ]
  },
  {
   "cell_type": "code",
   "execution_count": 60,
   "metadata": {},
   "outputs": [
    {
     "data": {
      "text/plain": [
       "((74074, 100), (100, 1))"
      ]
     },
     "execution_count": 60,
     "metadata": {},
     "output_type": "execute_result"
    }
   ],
   "source": [
    "weights_1.shape, weights_2.shape"
   ]
  },
  {
   "cell_type": "code",
   "execution_count": null,
   "metadata": {},
   "outputs": [],
   "source": []
  }
 ],
 "metadata": {
  "kernelspec": {
   "display_name": "Python 3",
   "language": "python",
   "name": "python3"
  },
  "language_info": {
   "codemirror_mode": {
    "name": "ipython",
    "version": 3
   },
   "file_extension": ".py",
   "mimetype": "text/x-python",
   "name": "python",
   "nbconvert_exporter": "python",
   "pygments_lexer": "ipython3",
   "version": "3.6.8"
  }
 },
 "nbformat": 4,
 "nbformat_minor": 2
}
