{
 "cells": [
  {
   "cell_type": "code",
   "execution_count": 1,
   "metadata": {},
   "outputs": [],
   "source": [
    "import numpy as np"
   ]
  },
  {
   "cell_type": "code",
   "execution_count": 52,
   "metadata": {},
   "outputs": [],
   "source": [
    "g = open('./reviews.txt', mode='r')\n",
    "reviews = [ r[:-1] for r in g.readlines() ]\n",
    "g.close()\n",
    "\n",
    "h = open('./labels.txt', mode='r')\n",
    "labels = [ r[:-1].upper() for r in h.readlines() ]\n",
    "h.close()"
   ]
  },
  {
   "cell_type": "code",
   "execution_count": 41,
   "metadata": {},
   "outputs": [
    {
     "data": {
      "text/plain": [
       "'bromwell high is a cartoon comedy . it ran at the same time as some other programs about school life  such as  teachers  . my   years in the teaching profession lead me to believe that bromwell high  s satire is much closer to reality than is  teachers  . the scramble to survive financially  the insightful students who can see right through their pathetic teachers  pomp  the pettiness of the whole situation  all remind me of the schools i knew and their students . when i saw the episode in which a student repeatedly tried to burn down the school  i immediately recalled . . . . . . . . . at . . . . . . . . . . high . a classic line inspector i  m here to sack one of your teachers . student welcome to bromwell high . i expect that many adults of my age think that bromwell high is far fetched . what a pity that it isn  t   '"
      ]
     },
     "execution_count": 41,
     "metadata": {},
     "output_type": "execute_result"
    }
   ],
   "source": [
    "reviews[0]"
   ]
  },
  {
   "cell_type": "code",
   "execution_count": 4,
   "metadata": {},
   "outputs": [
    {
     "data": {
      "text/plain": [
       "'POSITIVE'"
      ]
     },
     "execution_count": 4,
     "metadata": {},
     "output_type": "execute_result"
    }
   ],
   "source": [
    "labels[0]"
   ]
  },
  {
   "cell_type": "code",
   "execution_count": 5,
   "metadata": {},
   "outputs": [],
   "source": [
    "all_words = set() # Store all the words in the reviews\n",
    "for review in reviews:\n",
    "    for word in review.split(' '):\n",
    "        all_words.add(word)\n",
    "\n",
    "word2index = {} # I'm using this to store the indices of all the words\n",
    "for i, word in enumerate(all_words):\n",
    "    word2index[word] = i"
   ]
  },
  {
   "cell_type": "code",
   "execution_count": 6,
   "metadata": {},
   "outputs": [],
   "source": [
    "vocab_length = len(all_words)\n",
    "input_vector = np.zeros((1, vocab_length))"
   ]
  },
  {
   "cell_type": "code",
   "execution_count": 7,
   "metadata": {},
   "outputs": [],
   "source": [
    "# Function to convert each review into a 74074 vector\n",
    "def get_review_vector(review, input_vector):\n",
    "    input_vector *= 0\n",
    "    for word in review.split(' '):\n",
    "        input_vector[0][word2index[word]] = 1\n",
    "    return input_vector\n",
    "\n",
    "def get_label_value(label):\n",
    "    return 1 if label == \"POSITIVE\" else 0"
   ]
  },
  {
   "cell_type": "code",
   "execution_count": 48,
   "metadata": {},
   "outputs": [],
   "source": [
    "reviews, labels = reviews[0:5], labels[0:5]\n",
    "split = 0.70\n",
    "training_split = int(split * len(reviews))\n",
    "\n",
    "training_data, training_label = reviews[0:training_split], labels[0:training_split]\n",
    "valid_data, valid_label = reviews[training_split:], labels[training_split:]"
   ]
  },
  {
   "cell_type": "code",
   "execution_count": 47,
   "metadata": {},
   "outputs": [
    {
     "data": {
      "text/plain": [
       "array([[1., 0., 0., ..., 0., 0., 0.]])"
      ]
     },
     "execution_count": 47,
     "metadata": {},
     "output_type": "execute_result"
    }
   ],
   "source": [
    "get_review_vector(reviews[1], input_vector) # Check the input vector sample"
   ]
  },
  {
   "cell_type": "code",
   "execution_count": 10,
   "metadata": {},
   "outputs": [],
   "source": [
    "def sigmoid(x):\n",
    "    return 1/(1 + np.exp(-x))\n",
    "\n",
    "def sigmoid_deriv(z):\n",
    "    return z * (1 - z)\n",
    "\n",
    "def relu(x):\n",
    "    x[x > 0] = x\n",
    "    x[x <= 0] = 0.001\n",
    "    return x\n",
    "\n",
    "def relu_deriv(x):\n",
    "    x[x > 0] = 1\n",
    "    x[x <= 0] = 0\n",
    "    return x"
   ]
  },
  {
   "cell_type": "code",
   "execution_count": 56,
   "metadata": {
    "scrolled": false
   },
   "outputs": [
    {
     "name": "stdout",
     "output_type": "stream",
     "text": [
      "Error: 0.501199\n",
      "Error: 0.501199\n",
      "Error: 0.501199\n",
      "Error: 0.501199\n",
      "Error: 0.501199\n",
      "Error: 0.501199\n",
      "Error: 0.501199\n",
      "Error: 0.501199\n",
      "Error: 0.501199\n",
      "Error: 0.501199\n",
      "Error: 0.501199\n",
      "Error: 0.501199\n",
      "Error: 0.501199\n",
      "Error: 0.501199\n",
      "Error: 0.501199\n",
      "Error: 0.501199\n",
      "Error: 0.501199\n",
      "Error: 0.501199\n",
      "Error: 0.501199\n",
      "Error: 0.501199\n"
     ]
    }
   ],
   "source": [
    "from pdb import set_trace\n",
    "\n",
    "epochs = 20\n",
    "\n",
    "weights_1 = np.zeros((vocab_length, 100)) # start with random values\n",
    "weights_2 = np.random.normal(0.0, 1.0, (100, 1))\n",
    "\n",
    "lr = 0.5\n",
    "\n",
    "for e in range(epochs):\n",
    "    training_errors = []\n",
    "    c = 1\n",
    "    for review, label in zip(training_data, training_label):\n",
    "        review_vector = get_review_vector(review, input_vector)\n",
    "\n",
    "        hidden_layer_input = np.dot(review_vector, weights_1)\n",
    "        hidden_layer_output = sigmoid(hidden_layer_input)\n",
    "\n",
    "        final_layer_input = np.dot(hidden_layer_output, weights_2)\n",
    "        final_layer_output = sigmoid(final_layer_input)\n",
    "\n",
    "        output_error = get_label_value(label) - final_layer_output\n",
    "        output_error_delta = output_error * sigmoid_deriv(final_layer_output)\n",
    "\n",
    "        hidden_error = output_error * output_error_delta * weights_2.T\n",
    "        hidden_error_delta = hidden_error * sigmoid_deriv(hidden_layer_output)\n",
    "\n",
    "        weights_2_delta = output_error_delta * hidden_layer_output\n",
    "        weights_1_delta = hidden_error_delta.T * review_vector\n",
    "\n",
    "        # Update weights\n",
    "        weights_1 += lr * weights_1_delta.T\n",
    "        weights_2 += lr * weights_2_delta.T\n",
    "    \n",
    "    else:\n",
    "        valid_loss = 0\n",
    "        errors = []\n",
    "        for v_review, v_label in zip(valid_data, valid_label):\n",
    "            review_vector = get_review_vector(v_review, input_vector)\n",
    "            hidden_layer = sigmoid(np.dot(review_vector, weights_1))\n",
    "            final_layer = sigmoid(np.dot(hidden_layer, weights_2))\n",
    "            \n",
    "            valid_loss = np.abs(get_label_value(v_label) - final_layer)\n",
    "            errors.append(valid_loss[0][0])\n",
    "\n",
    "        print(\"Error: {:.6f}\".format(np.mean(errors)))"
   ]
  },
  {
   "cell_type": "code",
   "execution_count": 60,
   "metadata": {},
   "outputs": [
    {
     "data": {
      "text/plain": [
       "((74074, 100), (100, 1))"
      ]
     },
     "execution_count": 60,
     "metadata": {},
     "output_type": "execute_result"
    }
   ],
   "source": [
    "weights_1.shape, weights_2.shape"
   ]
  },
  {
   "cell_type": "code",
   "execution_count": null,
   "metadata": {},
   "outputs": [],
   "source": []
  }
 ],
 "metadata": {
  "kernelspec": {
   "display_name": "Python 3",
   "language": "python",
   "name": "python3"
  },
  "language_info": {
   "codemirror_mode": {
    "name": "ipython",
    "version": 3
   },
   "file_extension": ".py",
   "mimetype": "text/x-python",
   "name": "python",
   "nbconvert_exporter": "python",
   "pygments_lexer": "ipython3",
   "version": "3.6.8"
  }
 },
 "nbformat": 4,
 "nbformat_minor": 2
}
