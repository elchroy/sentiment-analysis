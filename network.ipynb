{
 "cells": [
  {
   "cell_type": "code",
   "execution_count": 4,
   "metadata": {
    "scrolled": false
   },
   "outputs": [
    {
     "name": "stdout",
     "output_type": "stream",
     "text": [
      "Epochs:1000/1000 - Training Loss:0.000 - Training Acc:100.000%"
     ]
    }
   ],
   "source": [
    "import numpy as np\n",
    "from pdb import set_trace\n",
    "from sys import stdout\n",
    "\n",
    "def sigmoid(x):\n",
    "    return 1/(1 + np.exp(-x))\n",
    "\n",
    "def sigmoid_deriv(z):\n",
    "    return z * (1 - z)\n",
    "\n",
    "def get_pred(output):\n",
    "    return 1 if output >= 0.5 else 0\n",
    "\n",
    "class Network:\n",
    "    \n",
    "    def __init__(self, input_units, hidden_units, output_units, epochs=10, learning_rate=0.010):\n",
    "        \n",
    "        self.input_units = input_units\n",
    "        self.hidden_units = hidden_units\n",
    "        self.output_units = output_units\n",
    "        self.epochs = epochs\n",
    "        self.learning_rate = learning_rate\n",
    "        \n",
    "        self.sizes = [input_units] + hidden_units + [output_units]\n",
    "        \n",
    "        self.weights = None\n",
    "        \n",
    "        self.initialize()\n",
    "    \n",
    "    def initialize(self):\n",
    "        self.weights = [ np.random.normal(0.0, 1.0, (a, b)) for a, b in zip(self.sizes[:-1], self.sizes[1:])]\n",
    "        self.weight_deltas = [ np.zeros((a, b)) for a, b in zip(self.sizes[:-1], self.sizes[1:])]\n",
    "    \n",
    "    def train(self, training_data, training_labels):\n",
    "        for e in range(self.epochs):\n",
    "            training_losses = []\n",
    "            training_acc = 0\n",
    "            \n",
    "            for x, y in zip(training_data, training_labels):\n",
    "                activation = x[None, :]\n",
    "                activations = [activation]\n",
    "                \n",
    "                for weight in self.weights:\n",
    "                    activation = sigmoid(np.dot(activation, weight))\n",
    "                    activations.append(activation)\n",
    "                \n",
    "                output_loss = 0.5 * (activations[-1] - y)**2\n",
    "                training_losses.extend(output_loss)\n",
    "                \n",
    "                \n",
    "                if output_loss < 0.125:\n",
    "                    training_acc += 1                    \n",
    "                    \n",
    "                output_error = activations[-1] - y\n",
    "                # output_error_delta\n",
    "                layer_error_delta = output_error * sigmoid_deriv(activations[-1])\n",
    "                \n",
    "                for layer in range(len(self.hidden_units)+1): #iterate 3 times\n",
    "                    self.weight_deltas[-layer-1] = layer_error_delta.T * activations[-layer-2]\n",
    "                    layer_error = np.dot(layer_error_delta, self.weights[-layer-1].T)\n",
    "                    layer_error_delta = layer_error * sigmoid_deriv(activations[-layer-2])\n",
    "                \n",
    "                \n",
    "                for i in range(len(self.weight_deltas)):\n",
    "                    self.weights[-i-1] -= self.learning_rate * self.weight_deltas[-i-1].T\n",
    "            \n",
    "            training_mean_loss = np.mean(training_losses)\n",
    "            string = \"Epochs:{}/{} - Training Loss:{:.3f} - Training Acc:{:.3f}%\".format(\n",
    "                e+1, self.epochs,\n",
    "                training_mean_loss, 100*float(training_acc)/len(training_data)\n",
    "            )\n",
    "            stdout.write(\"\\r\" + string)\n",
    "        stdout.flush()\n",
    "                \n",
    "                \n",
    "                \n",
    "    \n",
    "        \n",
    "\n",
    "    \n",
    "\n",
    "    \n",
    "training_data, training_labels = np.array([\n",
    "    [0, 0],\n",
    "    [0, 1],\n",
    "    [1, 0],\n",
    "    [1, 1],\n",
    "]), np.array([\n",
    "    0,\n",
    "    1,\n",
    "    1,\n",
    "    0,\n",
    "])\n",
    "net = Network(input_units=2, hidden_units=[300, 300, 300, 300,300, 300, 300], output_units=1, epochs=1000, learning_rate=1e-3)\n",
    "net.train(training_data, training_labels)\n",
    "\n"
   ]
  },
  {
   "cell_type": "code",
   "execution_count": null,
   "metadata": {},
   "outputs": [],
   "source": [
    "q"
   ]
  }
 ],
 "metadata": {
  "kernelspec": {
   "display_name": "Python 3",
   "language": "python",
   "name": "python3"
  },
  "language_info": {
   "codemirror_mode": {
    "name": "ipython",
    "version": 3
   },
   "file_extension": ".py",
   "mimetype": "text/x-python",
   "name": "python",
   "nbconvert_exporter": "python",
   "pygments_lexer": "ipython3",
   "version": "3.6.8"
  }
 },
 "nbformat": 4,
 "nbformat_minor": 2
}
